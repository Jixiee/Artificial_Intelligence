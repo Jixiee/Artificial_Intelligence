{
  "nbformat": 4,
  "nbformat_minor": 0,
  "metadata": {
    "colab": {
      "provenance": []
    },
    "kernelspec": {
      "name": "python3",
      "display_name": "Python 3"
    },
    "language_info": {
      "name": "python"
    }
  },
  "cells": [
    {
      "cell_type": "markdown",
      "source": [
        "### Hello World Program in Python"
      ],
      "metadata": {
        "id": "7GW3ymvPPzr0"
      }
    },
    {
      "cell_type": "code",
      "execution_count": null,
      "metadata": {
        "colab": {
          "base_uri": "https://localhost:8080/"
        },
        "id": "nz8GuNC2LZ2S",
        "outputId": "ce7a071a-3f30-4dcf-8b94-7ab7e4569120"
      },
      "outputs": [
        {
          "output_type": "stream",
          "name": "stdout",
          "text": [
            "Hello World\n"
          ]
        }
      ],
      "source": [
        "print(\"Hello World\")"
      ]
    },
    {
      "cell_type": "markdown",
      "source": [
        "### Declaring Variables"
      ],
      "metadata": {
        "id": "LGNSEwTJQr6O"
      }
    },
    {
      "cell_type": "code",
      "source": [
        "Name = \"Jigyasa\"\n",
        "Subject = \"Artificial Intelligence\"\n",
        "print(Name)\n",
        "print(Subject)"
      ],
      "metadata": {
        "colab": {
          "base_uri": "https://localhost:8080/"
        },
        "id": "ww6c7mu-Q8Ad",
        "outputId": "0bf5cfb1-62e1-4898-8fc1-aff6917062bf"
      },
      "execution_count": null,
      "outputs": [
        {
          "output_type": "stream",
          "name": "stdout",
          "text": [
            "Jigyasa\n",
            "Artificial Intelligence\n"
          ]
        }
      ]
    },
    {
      "cell_type": "code",
      "source": [
        "a=b=c=10\n",
        "print(a)\n",
        "print(b)\n",
        "print(c)"
      ],
      "metadata": {
        "colab": {
          "base_uri": "https://localhost:8080/"
        },
        "id": "rOXXZjn7Rezr",
        "outputId": "5d8ec089-a278-47d0-d35a-d447ee6ceea2"
      },
      "execution_count": null,
      "outputs": [
        {
          "output_type": "stream",
          "name": "stdout",
          "text": [
            "10\n",
            "10\n",
            "10\n"
          ]
        }
      ]
    },
    {
      "cell_type": "code",
      "source": [
        "print('Enter your name:')\n",
        "x = input()\n",
        "print('Hello, ' + x)\n"
      ],
      "metadata": {
        "colab": {
          "base_uri": "https://localhost:8080/"
        },
        "id": "LWy693_GR7TA",
        "outputId": "1a111456-8943-45e6-e4a2-9c0bad5152f9"
      },
      "execution_count": null,
      "outputs": [
        {
          "output_type": "stream",
          "name": "stdout",
          "text": [
            "Enter your name:\n",
            "Jigyasa\n",
            "Hello, Jigyasa\n"
          ]
        }
      ]
    },
    {
      "cell_type": "markdown",
      "source": [
        "### Data Types in Python\n"
      ],
      "metadata": {
        "id": "sWzhdVD4SzCi"
      }
    },
    {
      "cell_type": "code",
      "source": [
        "a=100\n",
        "b=\"Hiiii Jixiee\"\n",
        "c = 100.5\n",
        "print(type(a))\n",
        "print(type(b))\n",
        "print(type(c))"
      ],
      "metadata": {
        "colab": {
          "base_uri": "https://localhost:8080/"
        },
        "id": "Q5k4ZM4GS3d3",
        "outputId": "c7ee186e-50e0-4ec4-8f7f-785403254a89"
      },
      "execution_count": null,
      "outputs": [
        {
          "output_type": "stream",
          "name": "stdout",
          "text": [
            "<class 'int'>\n",
            "<class 'str'>\n",
            "<class 'float'>\n"
          ]
        }
      ]
    },
    {
      "cell_type": "markdown",
      "source": [
        "## Casting in Python\n",
        "### Casting in python is done using constructor functions\n",
        "##### `int()` - constructs an integer number from an integer literal, a float literal (by removing all decimals), or a string literal (given the string represents a whole number)\n",
        "##### `float()` - constructs a float number from an integer literal, a float literal or a string literal (given the string represents a float or an integer)\n",
        "##### ` str()` - constructs a string from a wide variety of data types, including strings, integer literals and float literals"
      ],
      "metadata": {
        "id": "6QT-Fw9xtDNJ"
      }
    },
    {
      "cell_type": "code",
      "source": [
        "x = int(1)\n",
        "y = int(2.8)\n",
        "z = int(\"3\")\n",
        "print(x)\n",
        "print(y)\n",
        "print(z)"
      ],
      "metadata": {
        "colab": {
          "base_uri": "https://localhost:8080/"
        },
        "id": "-FnRmlFIuHHR",
        "outputId": "bdbc9cc9-44d5-463d-9df7-f8aaa2eb9168"
      },
      "execution_count": null,
      "outputs": [
        {
          "output_type": "stream",
          "name": "stdout",
          "text": [
            "1\n",
            "2\n",
            "3\n"
          ]
        }
      ]
    },
    {
      "cell_type": "code",
      "source": [
        "x = float(1)\n",
        "y = float(2.8)\n",
        "z = float(\"3\")\n",
        "w = float(\"4.2\")\n",
        "print(x,y,z,w)"
      ],
      "metadata": {
        "colab": {
          "base_uri": "https://localhost:8080/"
        },
        "id": "h3GhQSYxunBh",
        "outputId": "06ca7df9-71df-48c3-bf49-956a6310abb4"
      },
      "execution_count": null,
      "outputs": [
        {
          "output_type": "stream",
          "name": "stdout",
          "text": [
            "1.0 2.8 3.0 4.2\n"
          ]
        }
      ]
    },
    {
      "cell_type": "code",
      "source": [
        "x = str(\"s1\")\n",
        "y = str(2)\n",
        "z = str(3.0)\n",
        "print(x,y,z)"
      ],
      "metadata": {
        "colab": {
          "base_uri": "https://localhost:8080/"
        },
        "id": "NsRH9RJRu0C5",
        "outputId": "9cb5c091-ea78-409b-8731-a7b9db802ce8"
      },
      "execution_count": null,
      "outputs": [
        {
          "output_type": "stream",
          "name": "stdout",
          "text": [
            "s1 2 3.0\n"
          ]
        }
      ]
    },
    {
      "cell_type": "markdown",
      "source": [
        " ### If-Else statements"
      ],
      "metadata": {
        "id": "9QJC5gfOPVDY"
      }
    },
    {
      "cell_type": "code",
      "source": [
        "x = 100\n",
        "y = 5\n",
        "\n",
        "if x > y:\n",
        "    print(\"x is greater than y\")\n",
        "else:\n",
        "    print(\"y is greater than or equal to x\")"
      ],
      "metadata": {
        "colab": {
          "base_uri": "https://localhost:8080/"
        },
        "id": "HInLm50VPqLn",
        "outputId": "b9d6d2e7-7274-406c-cc67-14d25f1176a5"
      },
      "execution_count": null,
      "outputs": [
        {
          "output_type": "stream",
          "name": "stdout",
          "text": [
            "x is greater than y\n"
          ]
        }
      ]
    },
    {
      "cell_type": "code",
      "source": [
        "age = int(input(\"Enter your age: \"))\n",
        "if age <= 20:\n",
        "    print(\"You are still a kid: \")\n",
        "else:\n",
        "    print(\"You are officially a budhau \")"
      ],
      "metadata": {
        "colab": {
          "base_uri": "https://localhost:8080/"
        },
        "id": "hX488wV1T5pr",
        "outputId": "bac7ae76-fd29-4227-85da-fa0b2ecb653a"
      },
      "execution_count": null,
      "outputs": [
        {
          "output_type": "stream",
          "name": "stdout",
          "text": [
            "Enter your age: 21\n",
            "You are officially a budhau \n"
          ]
        }
      ]
    },
    {
      "cell_type": "markdown",
      "source": [
        "### Loops in Python\n",
        "### For Loop\n",
        "##### - A for loop is used for iterating over a sequence (that is either a list, a tuple, a dictionary, a set, or a string).\n",
        "##### - This is less like the for keyword in other programming languages, and works more like an iterator method as found in other object-orientated programming languages."
      ],
      "metadata": {
        "id": "eiSz6nxfQE-K"
      }
    },
    {
      "cell_type": "code",
      "source": [
        "friends = [\"Jigyasa\", \"Shambhavi\", \"Saumya\", \"Khushi\", \"Pratyaksha\"]\n",
        "for x in friends:\n",
        "  print(x)\n",
        "\n"
      ],
      "metadata": {
        "colab": {
          "base_uri": "https://localhost:8080/"
        },
        "id": "YTsGqRQFW027",
        "outputId": "9f5a4460-829c-496b-a1a1-c1831df0df24"
      },
      "execution_count": null,
      "outputs": [
        {
          "output_type": "stream",
          "name": "stdout",
          "text": [
            "Jigyasa\n",
            "Shambhavi\n",
            "Saumya\n",
            "Khushi\n",
            "Pratyaksha\n"
          ]
        }
      ]
    },
    {
      "cell_type": "markdown",
      "source": [
        "#### Break statement\n",
        "###### With the break statement we can stop the loop even if the while condition is true."
      ],
      "metadata": {
        "id": "FiN_fzyHctpI"
      }
    },
    {
      "cell_type": "code",
      "source": [
        "friends = [\"Jigyasa\", \"Shambhavi\", \"Saumya\", \"Khushi\", \"Pratyaksha\"]\n",
        "for x in friends:\n",
        "  print(x)\n",
        "  if x == \"Shambhavi\":\n",
        "    break"
      ],
      "metadata": {
        "colab": {
          "base_uri": "https://localhost:8080/"
        },
        "id": "mkc9-QD0bBZk",
        "outputId": "acb05f34-fa80-4782-8174-46220b32c6fe"
      },
      "execution_count": null,
      "outputs": [
        {
          "output_type": "stream",
          "name": "stdout",
          "text": [
            "Jigyasa\n",
            "Shambhavi\n"
          ]
        }
      ]
    },
    {
      "cell_type": "markdown",
      "source": [
        "#### Continue statement\n",
        "###### With the continue statement we can stop the current iteration, and continue with the next."
      ],
      "metadata": {
        "id": "Jr8paUySc0-M"
      }
    },
    {
      "cell_type": "code",
      "source": [
        "friends = [\"Jigyasa\", \"Shambhavi\", \"Saumya\", \"Khushi\", \"Pratyaksha\"]\n",
        "for x in friends:\n",
        "  if x == \"Shambhavi\":\n",
        "    continue\n",
        "    print(x)"
      ],
      "metadata": {
        "id": "kCWqST7rcH5L"
      },
      "execution_count": null,
      "outputs": []
    },
    {
      "cell_type": "markdown",
      "source": [
        "#### While Loop\n",
        "##### With the while loop we can execute a set of statements as long as a condition is true.\n",
        "\n"
      ],
      "metadata": {
        "id": "YPoTIssIdAgC"
      }
    },
    {
      "cell_type": "code",
      "source": [
        "i = 1\n",
        "while i < 6:\n",
        "  print(i)\n",
        "  i += 1"
      ],
      "metadata": {
        "colab": {
          "base_uri": "https://localhost:8080/"
        },
        "id": "nPMyJoWmdr7a",
        "outputId": "4c3e1e6e-e1a4-4738-ff0b-1dbde8df2bcd"
      },
      "execution_count": null,
      "outputs": [
        {
          "output_type": "stream",
          "name": "stdout",
          "text": [
            "1\n",
            "2\n",
            "3\n",
            "4\n",
            "5\n"
          ]
        }
      ]
    },
    {
      "cell_type": "markdown",
      "source": [
        "### Lists in Python\n",
        "#####  A list is a collection of different kinds of values or items."
      ],
      "metadata": {
        "id": "X-Q8gMz3PPmh"
      }
    },
    {
      "cell_type": "code",
      "source": [
        "list1 = [1660, 1652, 1578, 1642]\n",
        "list2 = [\"Shambhavi\", \"Pratyaksha\", \"Saumya\", \"Khushi\"]\n",
        "print(list1)\n",
        "print(list2)\n",
        "print(type(list1))\n",
        "print(type(list2))"
      ],
      "metadata": {
        "colab": {
          "base_uri": "https://localhost:8080/"
        },
        "id": "phgwAZrhPUab",
        "outputId": "8e1291af-cffa-4e15-adaa-4ad0e70aff2c"
      },
      "execution_count": null,
      "outputs": [
        {
          "output_type": "stream",
          "name": "stdout",
          "text": [
            "[1660, 1652, 1578, 1642]\n",
            "['Shambhavi', 'Pratyaksha', 'Saumya', 'Khushi']\n",
            "<class 'list'>\n",
            "<class 'list'>\n"
          ]
        }
      ]
    },
    {
      "cell_type": "markdown",
      "source": [
        "## Tuples in Python\n",
        "##### Tuples are an immutable data type, meaning their elements cannot be changed after they are generated.\n",
        "##### Each element in a tuple has a specific order that will never change because tuples are ordered sequences."
      ],
      "metadata": {
        "id": "4dov6eddZyM9"
      }
    },
    {
      "cell_type": "code",
      "source": [
        "empty_tuple = ()\n",
        "print(\"Empty tuple: \", empty_tuple)\n",
        "\n",
        "int_tuple = (4, 6, 8, 10, 12, 14)\n",
        "print(\"Tuple with integers: \", int_tuple)\n",
        "\n",
        "mixed_tuple = (24, \"AMITY\", 9.3)\n",
        "print(\"Tuple with different data types: \", mixed_tuple)\n",
        "\n",
        "nested_tuple = (\"Amity\", {4: 5, 6: 2, 8:2}, (5, 3, 5, 6))\n",
        "print(\"A nested tuple: \", nested_tuple)"
      ],
      "metadata": {
        "colab": {
          "base_uri": "https://localhost:8080/"
        },
        "id": "djaf82GjZqxT",
        "outputId": "e83cdd96-98b9-4433-da4a-bec5656f4600"
      },
      "execution_count": null,
      "outputs": [
        {
          "output_type": "stream",
          "name": "stdout",
          "text": [
            "Empty tuple:  ()\n",
            "Tuple with integers:  (4, 6, 8, 10, 12, 14)\n",
            "Tuple with different data types:  (24, 'AMITY', 9.3)\n",
            "A nested tuple:  ('Amity', {4: 5, 6: 2, 8: 2}, (5, 3, 5, 6))\n"
          ]
        }
      ]
    },
    {
      "cell_type": "markdown",
      "source": [
        "## Arrays in Python\n",
        "#### Inserting elements in Array"
      ],
      "metadata": {
        "id": "boUPGmbFc0UG"
      }
    },
    {
      "cell_type": "code",
      "source": [
        "import array as arr\n",
        "a = arr.array('i', [1, 2, 3])\n",
        "print(\"Array before insertion : \", end=\" \")\n",
        "for i in range(0, 3):\n",
        "\tprint(a[i], end=\" \")\n",
        "print()\n",
        "a.insert(1, 4)\n",
        "print(\"Array after insertion : \", end=\" \")\n",
        "for i in (a):\n",
        "\tprint(i, end=\" \")\n",
        "print()\n",
        "b = arr.array('d', [2.5, 3.2, 3.3])\n",
        "print(\"Array before insertion : \", end=\" \")\n",
        "for i in range(0, 3):\n",
        "\tprint(b[i], end=\" \")\n",
        "print()\n",
        "b.append(4.4)\n",
        "print(\"Array after insertion : \", end=\" \")\n",
        "for i in (b):\n",
        "\tprint(i, end=\" \")\n",
        "print()\n",
        "\n"
      ],
      "metadata": {
        "colab": {
          "base_uri": "https://localhost:8080/"
        },
        "id": "p3vtqhUaZ82L",
        "outputId": "0b28d6d1-e177-4e4d-85df-62098e23798c"
      },
      "execution_count": null,
      "outputs": [
        {
          "output_type": "stream",
          "name": "stdout",
          "text": [
            "Array before insertion :  1 2 3 \n",
            "Array after insertion :  1 4 2 3 \n",
            "Array before insertion :  2.5 3.2 3.3 \n",
            "Array after insertion :  2.5 3.2 3.3 4.4 \n"
          ]
        }
      ]
    },
    {
      "cell_type": "markdown",
      "source": [
        "#### Deleting Elements from an Array"
      ],
      "metadata": {
        "id": "TE0rcVvbdBBb"
      }
    },
    {
      "cell_type": "code",
      "source": [
        "import array as arr\n",
        "number = arr.array('i', [1, 2, 3, 3, 4])\n",
        "del number[2]\n",
        "print(number)"
      ],
      "metadata": {
        "colab": {
          "base_uri": "https://localhost:8080/"
        },
        "id": "Iku5kJDtdSaY",
        "outputId": "b9fa9ac2-3db1-4579-837f-4890cbe98d09"
      },
      "execution_count": null,
      "outputs": [
        {
          "output_type": "stream",
          "name": "stdout",
          "text": [
            "array('i', [1, 2, 3, 4])\n"
          ]
        }
      ]
    },
    {
      "cell_type": "markdown",
      "source": [
        "#### Concatenation of Arrays"
      ],
      "metadata": {
        "id": "MnknwtCtdc5J"
      }
    },
    {
      "cell_type": "code",
      "source": [
        "a=arr.array('d',[1.1 , 2.1 ,3.1,2.6,7.8])\n",
        "b=arr.array('d',[3.7,8.6])\n",
        "c=arr.array('d')\n",
        "c=a+b\n",
        "print(\"Array c = \",c)"
      ],
      "metadata": {
        "colab": {
          "base_uri": "https://localhost:8080/"
        },
        "id": "W_vHcvledcOH",
        "outputId": "88deaed4-b707-490c-8dc9-247c901689bc"
      },
      "execution_count": null,
      "outputs": [
        {
          "output_type": "stream",
          "name": "stdout",
          "text": [
            "Array c =  array('d', [1.1, 2.1, 3.1, 2.6, 7.8, 3.7, 8.6])\n"
          ]
        }
      ]
    },
    {
      "cell_type": "markdown",
      "source": [
        "#### Slicing of an Array"
      ],
      "metadata": {
        "id": "Za50FPiaeRDY"
      }
    },
    {
      "cell_type": "code",
      "source": [
        "import array as arr\n",
        "l = [1, 2, 3, 4, 5, 6, 7, 8, 9, 10]\n",
        "\n",
        "a = arr.array('i', l)\n",
        "print(\"Initial Array: \")\n",
        "for i in (a):\n",
        "\tprint(i, end=\" \")\n",
        "Sliced_array = a[3:8]\n",
        "print(\"\\nSlicing elements in a range 3-8: \")\n",
        "print(Sliced_array)\n",
        "Sliced_array = a[5:]\n",
        "print(\"\\nElements sliced from 5th \"\n",
        "\t\"element till the end: \")\n",
        "print(Sliced_array)\n"
      ],
      "metadata": {
        "colab": {
          "base_uri": "https://localhost:8080/"
        },
        "id": "TPHSh3-yeU1_",
        "outputId": "33ddf7d0-a8e3-42ba-ed18-c4434173fd3a"
      },
      "execution_count": null,
      "outputs": [
        {
          "output_type": "stream",
          "name": "stdout",
          "text": [
            "Initial Array: \n",
            "1 2 3 4 5 6 7 8 9 10 \n",
            "Slicing elements in a range 3-8: \n",
            "array('i', [4, 5, 6, 7, 8])\n",
            "\n",
            "Elements sliced from 5th element till the end: \n",
            "array('i', [6, 7, 8, 9, 10])\n"
          ]
        }
      ]
    },
    {
      "cell_type": "markdown",
      "source": [
        "#### Reversing elements in an array"
      ],
      "metadata": {
        "id": "9bEsv5zLexPf"
      }
    },
    {
      "cell_type": "code",
      "source": [
        "import array\n",
        "my_array = array.array('i', [1, 2, 3, 4, 5])\n",
        "print(\"Original array:\", *my_array)\n",
        "my_array.reverse()\n",
        "print(\"Reversed array:\", *my_array)\n"
      ],
      "metadata": {
        "colab": {
          "base_uri": "https://localhost:8080/"
        },
        "id": "ItVHwJrLe1FT",
        "outputId": "860e448f-8d2b-4553-e2d8-fe410d9f1a8f"
      },
      "execution_count": null,
      "outputs": [
        {
          "output_type": "stream",
          "name": "stdout",
          "text": [
            "Original array: 1 2 3 4 5\n",
            "Reversed array: 5 4 3 2 1\n"
          ]
        }
      ]
    },
    {
      "cell_type": "markdown",
      "source": [
        "## Functions in Python"
      ],
      "metadata": {
        "id": "Aw2oXs72fUh6"
      }
    },
    {
      "cell_type": "code",
      "source": [
        "def square( num ):\n",
        "    return num**2\n",
        "object_ = square(225)\n",
        "print( \"The square of the given number is: \", object_ )"
      ],
      "metadata": {
        "colab": {
          "base_uri": "https://localhost:8080/"
        },
        "id": "v57BpcYffXXD",
        "outputId": "10646d10-807f-4a55-d70a-3ede586775dd"
      },
      "execution_count": null,
      "outputs": [
        {
          "output_type": "stream",
          "name": "stdout",
          "text": [
            "The square of the given number is:  50625\n"
          ]
        }
      ]
    },
    {
      "cell_type": "markdown",
      "source": [
        "#### Pass by Reference vs Pass by Value"
      ],
      "metadata": {
        "id": "UUtxlgt0gChA"
      }
    },
    {
      "cell_type": "code",
      "source": [
        "def Cubes( item_list ):\n",
        "    Cubes = [ ]\n",
        "    for l in item_list:\n",
        "        Cubes.append( l**3 )\n",
        "    return Cubes\n",
        "my_list = [17, 52, 367];\n",
        "my_result = Cubes( my_list )\n",
        "print( \"Cubes of the list are: \", my_result )"
      ],
      "metadata": {
        "colab": {
          "base_uri": "https://localhost:8080/"
        },
        "id": "YmvirBergSoI",
        "outputId": "c4cb884f-0f91-47c9-a16d-4b3af0d212bd"
      },
      "execution_count": null,
      "outputs": [
        {
          "output_type": "stream",
          "name": "stdout",
          "text": [
            "Cubes of the list are:  [4913, 140608, 49430863]\n"
          ]
        }
      ]
    },
    {
      "cell_type": "markdown",
      "source": [
        "### Lambda Function"
      ],
      "metadata": {
        "id": "jtsRMftQhuNg"
      }
    },
    {
      "cell_type": "code",
      "source": [
        "lambda_ = lambda argument1, argument2: argument1 + argument2;\n",
        "print( \"Value of the function is : \", lambda_( 20, 30 ) )\n",
        "print( \"Value of the function is : \", lambda_( 40, 50 ) )"
      ],
      "metadata": {
        "colab": {
          "base_uri": "https://localhost:8080/"
        },
        "id": "-WorlrdRhw6U",
        "outputId": "0449955e-bf19-4268-8244-6024ca64f449"
      },
      "execution_count": null,
      "outputs": [
        {
          "output_type": "stream",
          "name": "stdout",
          "text": [
            "Value of the function is :  50\n",
            "Value of the function is :  90\n"
          ]
        }
      ]
    }
  ]
}