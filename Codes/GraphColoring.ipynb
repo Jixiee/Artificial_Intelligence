{
  "nbformat": 4,
  "nbformat_minor": 0,
  "metadata": {
    "colab": {
      "provenance": []
    },
    "kernelspec": {
      "name": "python3",
      "display_name": "Python 3"
    },
    "language_info": {
      "name": "python"
    }
  },
  "cells": [
    {
      "cell_type": "code",
      "execution_count": 4,
      "metadata": {
        "colab": {
          "base_uri": "https://localhost:8080/"
        },
        "id": "zykorp8scZEK",
        "outputId": "293bd825-48d8-45a6-8c36-3b54802e48a6"
      },
      "outputs": [
        {
          "output_type": "stream",
          "name": "stdout",
          "text": [
            "Node a  =  Ivory\n",
            "Node b  =  Olive\n",
            "Node c  =  Peach\n",
            "Node d  =  Ivory\n",
            "Node e  =  Olive\n",
            "Node f  =  Peach\n"
          ]
        }
      ],
      "source": [
        "G = [[ 1, 0, 0, 1, 1, 0],\n",
        "\t [ 1, 0, 1, 1, 0, 1],\n",
        "\t [ 1, 1, 0, 1, 1, 0],\n",
        "\t [ 0, 1, 1, 0, 0, 1],\n",
        "\t [ 1, 0, 0, 0, 1, 1],\n",
        "\t [ 0, 1, 0, 1, 0, 0]]\n",
        "node = \"abcdef\"\n",
        "t_={}\n",
        "for i in range(len(G)):\n",
        "\tt_[node[i]] = i\n",
        "degree =[]\n",
        "for i in range(len(G)):\n",
        "\tdegree.append(sum(G[i]))\n",
        "colorDict = {}\n",
        "for i in range(len(G)):\n",
        "\tcolorDict[node[i]]=[\"Olive\",\"Peach\",\"Ivory\",\"Teal\"]\n",
        "sortedNode=[]\n",
        "indeks = []\n",
        "for i in range(len(degree)):\n",
        "\t_max = 0\n",
        "\tj = 0\n",
        "\tfor j in range(len(degree)):\n",
        "\t\tif j not in indeks:\n",
        "\t\t\tif degree[j] > _max:\n",
        "\t\t\t\t_max = degree[j]\n",
        "\t\t\t\tidx = j\n",
        "\tindeks.append(idx)\n",
        "\tsortedNode.append(node[idx])\n",
        "theSolution={}\n",
        "for n in sortedNode:\n",
        "\tsetTheColor = colorDict[n]\n",
        "\ttheSolution[n] = setTheColor[0]\n",
        "\tadjacentNode = G[t_[n]]\n",
        "\tfor j in range(len(adjacentNode)):\n",
        "\t\tif adjacentNode[j]==1 and (setTheColor[0] in colorDict[node[j]]):\n",
        "\t\t\tcolorDict[node[j]].remove(setTheColor[0])\n",
        "for t,w in sorted(theSolution.items()):\n",
        "\tprint(\"Node\",t,\" = \",w)"
      ]
    }
  ]
}