{
  "nbformat": 4,
  "nbformat_minor": 0,
  "metadata": {
    "colab": {
      "provenance": []
    },
    "kernelspec": {
      "name": "python3",
      "display_name": "Python 3"
    },
    "language_info": {
      "name": "python"
    }
  },
  "cells": [
    {
      "cell_type": "code",
      "source": [
        "def knapsack_brute_force(weights, values, capacity):\n",
        "    n = len(values)\n",
        "    max_profit = 0\n",
        "    best_set = []\n",
        "\n",
        "    # Generate all possible subsets\n",
        "    for i in range(2**n):\n",
        "        subset_weights = []\n",
        "        subset_values = []\n",
        "        total_weight = 0\n",
        "        total_value = 0\n",
        "\n",
        "        # Convert binary representation to subset\n",
        "        for j in range(n):\n",
        "            if (i >> j) & 1:\n",
        "                subset_weights.append(weights[j])\n",
        "                subset_values.append(values[j])\n",
        "                total_weight += weights[j]\n",
        "                total_value += values[j]\n",
        "\n",
        "        # Check if the subset is feasible and maximizes profit\n",
        "        if total_weight <= capacity and total_value > max_profit:\n",
        "            max_profit = total_value\n",
        "            best_set = subset_weights\n",
        "\n",
        "    return max_profit, best_set\n",
        "\n",
        "\n",
        "def main():\n",
        "    n = int(input(\"Enter the number of items: \"))\n",
        "    weights = []\n",
        "    values = []\n",
        "\n",
        "    print(\"Enter the weight and value of each item:\")\n",
        "    for i in range(n):\n",
        "        weight, value = map(int, input().split())\n",
        "        weights.append(weight)\n",
        "        values.append(value)\n",
        "\n",
        "    capacity = int(input(\"Enter the capacity of the knapsack: \"))\n",
        "\n",
        "    max_profit, best_set = knapsack_brute_force(weights, values, capacity)\n",
        "\n",
        "    print(\"The maximum profit earned is:\", max_profit)\n",
        "    print(\"The items included in the knapsack are:\", best_set)\n",
        "\n",
        "\n",
        "if __name__ == \"__main__\":\n",
        "    main()\n"
      ],
      "metadata": {
        "colab": {
          "base_uri": "https://localhost:8080/"
        },
        "id": "yifyBOfYKLY0",
        "outputId": "c1dff86b-8b68-404e-b0d9-d303f8747dbf"
      },
      "execution_count": 4,
      "outputs": [
        {
          "output_type": "stream",
          "name": "stdout",
          "text": [
            "Enter the number of items: 5\n",
            "Enter the weight and value of each item:\n",
            "2 13\n",
            "3 19\n",
            "6 10\n",
            "5 15\n",
            "7 20\n",
            "Enter the capacity of the knapsack: 20\n",
            "The maximum profit earned is: 67\n",
            "The items included in the knapsack are: [2, 3, 5, 7]\n"
          ]
        }
      ]
    }
  ]
}