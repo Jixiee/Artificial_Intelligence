{
  "nbformat": 4,
  "nbformat_minor": 0,
  "metadata": {
    "colab": {
      "provenance": []
    },
    "kernelspec": {
      "name": "python3",
      "display_name": "Python 3"
    },
    "language_info": {
      "name": "python"
    }
  },
  "cells": [
    {
      "cell_type": "code",
      "source": [
        "import re\n",
        "\n",
        "def solve_cryptarithmetic(puzzle):\n",
        "    letters = set(re.findall(r'[A-Za-z]', puzzle))\n",
        "    if len(letters) > 10:\n",
        "        return \"Invalid puzzle: More than 10 unique letters\"\n",
        "    from itertools import permutations\n",
        "    for perm in permutations(range(10), len(letters)):\n",
        "        mapping = dict(zip(letters, perm))\n",
        "        equation = ''.join(str(mapping.get(char, char)) for char in puzzle)\n",
        "        if not re.search(r'\\b0[0-9]', equation):\n",
        "            if eval(equation):\n",
        "                return equation\n",
        "    return \"No solution found\"\n",
        "\n",
        "if __name__ == \"__main__\":\n",
        "    puzzle = input(\"Enter the cryptarithmetic puzzle: \")\n",
        "    solution = solve_cryptarithmetic(puzzle)\n",
        "    print(\"Solution:\", solution)\n"
      ],
      "metadata": {
        "colab": {
          "base_uri": "https://localhost:8080/"
        },
        "id": "dOD_QdkpLgZf",
        "outputId": "71b194e7-3e49-478b-82d8-7bf41624582a"
      },
      "execution_count": 28,
      "outputs": [
        {
          "output_type": "stream",
          "name": "stdout",
          "text": [
            "Enter the cryptarithmetic puzzle: TWO + TWO == FOUR\n",
            "Solution: 765 + 765 == 1530\n"
          ]
        }
      ]
    }
  ]
}