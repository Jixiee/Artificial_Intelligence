{
  "nbformat": 4,
  "nbformat_minor": 0,
  "metadata": {
    "colab": {
      "provenance": []
    },
    "kernelspec": {
      "name": "python3",
      "display_name": "Python 3"
    },
    "language_info": {
      "name": "python"
    }
  },
  "cells": [
    {
      "cell_type": "code",
      "source": [
        "def xor_gate(input1, input2):\n",
        "    if input1 != input2:\n",
        "        return 1\n",
        "    else:\n",
        "        return 0\n",
        "input1 = int(input(\"Enter first input (0 or 1): \"))\n",
        "input2 = int(input(\"Enter second input (0 or 1): \"))\n",
        "if input1 not in (0, 1) or input2 not in (0, 1):\n",
        "    print(\"Invalid input. Inputs must be 0 or 1.\")\n",
        "else:\n",
        "    output = xor_gate(input1, input2)\n",
        "    print(f\"The output of XOR gate for inputs {input1} and {input2} is: {output}\")\n"
      ],
      "metadata": {
        "colab": {
          "base_uri": "https://localhost:8080/"
        },
        "id": "0KMsIQdAgRHp",
        "outputId": "4769cc52-7225-4278-a4c3-24f8c27b9fb7"
      },
      "execution_count": 5,
      "outputs": [
        {
          "output_type": "stream",
          "name": "stdout",
          "text": [
            "Enter first input (0 or 1): 1\n",
            "Enter second input (0 or 1): 0\n",
            "The output of XOR gate for inputs 1 and 0 is: 1\n"
          ]
        }
      ]
    }
  ]
}