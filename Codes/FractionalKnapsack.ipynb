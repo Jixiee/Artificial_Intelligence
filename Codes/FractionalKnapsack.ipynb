{
  "nbformat": 4,
  "nbformat_minor": 0,
  "metadata": {
    "colab": {
      "provenance": []
    },
    "kernelspec": {
      "name": "python3",
      "display_name": "Python 3"
    },
    "language_info": {
      "name": "python"
    }
  },
  "cells": [
    {
      "cell_type": "code",
      "execution_count": 2,
      "metadata": {
        "colab": {
          "base_uri": "https://localhost:8080/"
        },
        "id": "j2mB-zjRJUC-",
        "outputId": "232cb359-80c4-48a1-8c28-0d7bbd1d6c85"
      },
      "outputs": [
        {
          "output_type": "stream",
          "name": "stdout",
          "text": [
            "Enter the number of items: 4\n",
            "Enter the weights of items:\n",
            "4\n",
            "3\n",
            "6\n",
            "2\n",
            "Enter the values of items:\n",
            "8\n",
            "9\n",
            "7\n",
            "10\n",
            "Enter the capacity of the knapsack: 10\n",
            "Maximum value obtained: 28.166666666666668\n"
          ]
        }
      ],
      "source": [
        "def fractional_knapsack(weights, values, capacity):\n",
        "    value_per_weight = [(values[i] / weights[i], weights[i], values[i]) for i in range(len(weights))]\n",
        "    value_per_weight.sort(reverse=True)\n",
        "    max_value = 0\n",
        "    for vpw, w, v in value_per_weight:\n",
        "        if w <= capacity:\n",
        "            max_value += v\n",
        "            capacity -= w\n",
        "        else:\n",
        "            max_value += vpw * capacity\n",
        "            break\n",
        "    return max_value\n",
        "n = int(input(\"Enter the number of items: \"))\n",
        "weights = []\n",
        "values = []\n",
        "print(\"Enter the weights of items:\")\n",
        "for i in range(n):\n",
        "    weights.append(int(input()))\n",
        "print(\"Enter the values of items:\")\n",
        "for i in range(n):\n",
        "    values.append(int(input()))\n",
        "capacity = int(input(\"Enter the capacity of the knapsack: \"))\n",
        "print(\"Maximum value obtained:\", fractional_knapsack(weights, values, capacity))\n"
      ]
    }
  ]
}