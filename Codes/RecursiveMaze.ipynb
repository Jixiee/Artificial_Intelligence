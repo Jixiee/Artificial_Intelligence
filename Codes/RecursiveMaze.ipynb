{
  "nbformat": 4,
  "nbformat_minor": 0,
  "metadata": {
    "colab": {
      "provenance": []
    },
    "kernelspec": {
      "name": "python3",
      "display_name": "Python 3"
    },
    "language_info": {
      "name": "python"
    }
  },
  "cells": [
    {
      "cell_type": "markdown",
      "source": [
        "# Recursive Maze Problem"
      ],
      "metadata": {
        "id": "Qizhhu8AwJ8Q"
      }
    },
    {
      "cell_type": "code",
      "execution_count": null,
      "metadata": {
        "colab": {
          "base_uri": "https://localhost:8080/"
        },
        "id": "eY4a592fuqoy",
        "outputId": "59651737-1188-4fc5-82bc-be4dd6c12fef"
      },
      "outputs": [
        {
          "output_type": "stream",
          "name": "stdout",
          "text": [
            "Path found: [(0, 0), (1, 0), (2, 0), (2, 1), (2, 2), (1, 2), (0, 2), (0, 3), (0, 4), (1, 4), (2, 4), (3, 4), (4, 4)]\n"
          ]
        }
      ],
      "source": [
        "def is_valid_move(maze, x, y):\n",
        "    rows, cols = len(maze), len(maze[0])\n",
        "    return 0 <= x < rows and 0 <= y < cols and maze[x][y] == 0\n",
        "\n",
        "def solve_maze(maze, start, end, path=[]):\n",
        "    x, y = start\n",
        "    if (x, y) == end:\n",
        "        return path + [(x, y)]\n",
        "    maze[x][y] = -1\n",
        "    moves = [(0, 1), (0, -1), (1, 0), (-1, 0)]\n",
        "\n",
        "    for move in moves:\n",
        "        new_x, new_y = x + move[0], y + move[1]\n",
        "        if is_valid_move(maze, new_x, new_y):\n",
        "            result = solve_maze(maze, (new_x, new_y), end, path + [(x, y)])\n",
        "\n",
        "            if result:\n",
        "                return result\n",
        "\n",
        "    return None\n",
        "\n",
        "maze = [\n",
        "    [0, 1, 0, 0, 0],\n",
        "    [0, 1, 0, 1, 0],\n",
        "    [0, 0, 0, 1, 0],\n",
        "    [0, 1, 1, 1, 0],\n",
        "    [0, 0, 0, 0, 0]\n",
        "]\n",
        "\n",
        "start_position = (0, 0)\n",
        "end_position = (4, 4)\n",
        "\n",
        "solution = solve_maze(maze, start_position, end_position)\n",
        "if solution:\n",
        "    print(\"Path found:\", solution)\n",
        "else:\n",
        "    print(\"No path found.\")\n"
      ]
    }
  ]
}