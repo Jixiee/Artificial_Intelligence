{
  "nbformat": 4,
  "nbformat_minor": 0,
  "metadata": {
    "colab": {
      "provenance": []
    },
    "kernelspec": {
      "name": "python3",
      "display_name": "Python 3"
    },
    "language_info": {
      "name": "python"
    }
  },
  "cells": [
    {
      "cell_type": "code",
      "source": [
        "from collections import Counter\n",
        "import re\n",
        "\n",
        "def preprocess_text(text):\n",
        "    text = text.lower()\n",
        "    text = re.sub(r'[^a-zA-Z0-9\\s]', '', text)\n",
        "    return text\n",
        "\n",
        "def bag_of_words(text):\n",
        "    text = preprocess_text(text)\n",
        "    words = text.split()\n",
        "    word_counts = Counter(words)\n",
        "    return word_counts\n",
        "\n",
        "def main():\n",
        "    text = \"This is a simple example of bag of words algorithm. This algorithm counts the occurrence of each word in a given text.\"\n",
        "    bag = bag_of_words(text)\n",
        "    print(\"Bag of Words:\")\n",
        "    for word, count in bag.items():\n",
        "        print(f\"{word}: {count}\")\n",
        "if __name__ == \"__main__\":\n",
        "    main()\n"
      ],
      "metadata": {
        "colab": {
          "base_uri": "https://localhost:8080/"
        },
        "id": "14ro8ZyFQxqa",
        "outputId": "e22ee9d6-a9b8-45d6-9301-254b090a77eb"
      },
      "execution_count": 2,
      "outputs": [
        {
          "output_type": "stream",
          "name": "stdout",
          "text": [
            "Bag of Words:\n",
            "this: 2\n",
            "is: 1\n",
            "a: 2\n",
            "simple: 1\n",
            "example: 1\n",
            "of: 3\n",
            "bag: 1\n",
            "words: 1\n",
            "algorithm: 2\n",
            "counts: 1\n",
            "the: 1\n",
            "occurrence: 1\n",
            "each: 1\n",
            "word: 1\n",
            "in: 1\n",
            "given: 1\n",
            "text: 1\n"
          ]
        }
      ]
    }
  ]
}