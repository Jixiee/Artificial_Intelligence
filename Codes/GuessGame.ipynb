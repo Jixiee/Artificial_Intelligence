{
  "nbformat": 4,
  "nbformat_minor": 0,
  "metadata": {
    "colab": {
      "provenance": []
    },
    "kernelspec": {
      "name": "python3",
      "display_name": "Python 3"
    },
    "language_info": {
      "name": "python"
    }
  },
  "cells": [
    {
      "cell_type": "code",
      "execution_count": 1,
      "metadata": {
        "colab": {
          "base_uri": "https://localhost:8080/"
        },
        "id": "Y2s_gmbcBIrA",
        "outputId": "8de80ec5-6dba-4c0f-c575-51e96fc391ab"
      },
      "outputs": [
        {
          "output_type": "stream",
          "name": "stdout",
          "text": [
            "Welcome to the Guess the Category game!\n",
            "Choose a category:\n",
            "1. Fruits\n",
            "2. Vegetables\n",
            "3. Colors\n",
            "4. Fragrances\n",
            "5. Flowers\n",
            "Enter the number of the category you want to play: 1\n",
            "Welcome to the Guess the Fruits game!\n",
            "I'm thinking of something in that category.\n",
            "Enter your guess for fruits: apple\n",
            "Congratulations! You guessed the correct fruits: apple in 1 attempts.\n"
          ]
        }
      ],
      "source": [
        "import random\n",
        "\n",
        "def guess_the_category(category):\n",
        "    categories = {\n",
        "        \"fruits\": [\"apple\", \"banana\", \"orange\", \"grape\", \"kiwi\"],\n",
        "        \"vegetables\": [\"carrot\", \"broccoli\", \"tomato\", \"spinach\", \"potato\"],\n",
        "        \"colors\": [\"red\", \"blue\", \"green\", \"yellow\", \"purple\"],\n",
        "        \"fragrances\": [\"vanilla\", \"lavender\", \"rose\", \"lemon\", \"pine\"],\n",
        "        \"flowers\": [\"rose\", \"tulip\", \"daisy\", \"lily\", \"sunflower\"]\n",
        "    }\n",
        "\n",
        "    if category not in categories:\n",
        "        print(\"Invalid category. Please choose a valid category.\")\n",
        "        return\n",
        "\n",
        "    print(f\"Welcome to the Guess the {category.capitalize()} game!\")\n",
        "    print(\"I'm thinking of something in that category.\")\n",
        "\n",
        "    secret_word = random.choice(categories[category])\n",
        "    attempts = 0\n",
        "\n",
        "    while True:\n",
        "        guess = input(f\"Enter your guess for {category}: \").lower()\n",
        "\n",
        "        attempts += 1\n",
        "\n",
        "        if guess == secret_word:\n",
        "            print(f\"Congratulations! You guessed the correct {category}: {secret_word} in {attempts} attempts.\")\n",
        "            break\n",
        "        else:\n",
        "            print(\"Incorrect. Try again.\")\n",
        "\n",
        "if __name__ == \"__main__\":\n",
        "    print(\"Welcome to the Guess the Category game!\")\n",
        "    print(\"Choose a category:\")\n",
        "    print(\"1. Fruits\")\n",
        "    print(\"2. Vegetables\")\n",
        "    print(\"3. Colors\")\n",
        "    print(\"4. Fragrances\")\n",
        "    print(\"5. Flowers\")\n",
        "\n",
        "    category_choice = input(\"Enter the number of the category you want to play: \")\n",
        "\n",
        "    categories_mapping = {\n",
        "        \"1\": \"fruits\",\n",
        "        \"2\": \"vegetables\",\n",
        "        \"3\": \"colors\",\n",
        "        \"4\": \"fragrances\",\n",
        "        \"5\": \"flowers\"\n",
        "    }\n",
        "\n",
        "    selected_category = categories_mapping.get(category_choice)\n",
        "\n",
        "    if selected_category:\n",
        "        guess_the_category(selected_category)\n",
        "    else:\n",
        "        print(\"Invalid choice. Exiting the game.\")\n"
      ]
    }
  ]
}