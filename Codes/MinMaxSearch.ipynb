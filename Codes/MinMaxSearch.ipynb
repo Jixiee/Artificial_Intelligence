{
  "nbformat": 4,
  "nbformat_minor": 0,
  "metadata": {
    "colab": {
      "provenance": []
    },
    "kernelspec": {
      "name": "python3",
      "display_name": "Python 3"
    },
    "language_info": {
      "name": "python"
    }
  },
  "cells": [
    {
      "cell_type": "code",
      "execution_count": 2,
      "metadata": {
        "colab": {
          "base_uri": "https://localhost:8080/"
        },
        "id": "H6C6X5ItRerK",
        "outputId": "0e2ffa83-c278-4b5d-b928-fa24828ab5fe"
      },
      "outputs": [
        {
          "output_type": "stream",
          "name": "stdout",
          "text": [
            "Optimal score: 7\n"
          ]
        }
      ],
      "source": [
        "class Node:\n",
        "    def __init__(self, value):\n",
        "        self.value = value\n",
        "        self.left = None\n",
        "        self.right = None\n",
        "\n",
        "def build_tree():\n",
        "    root = Node(3)\n",
        "    root.left = Node(5)\n",
        "    root.right = Node(2)\n",
        "    root.left.left = Node(9)\n",
        "    root.left.right = Node(7)\n",
        "    root.right.left = Node(1)\n",
        "    root.right.right = Node(8)\n",
        "    return root\n",
        "\n",
        "def minimax(node, depth, maximizing_player):\n",
        "    if depth == 0 or (node.left is None and node.right is None):\n",
        "        return node.value\n",
        "\n",
        "    if maximizing_player:\n",
        "        max_eval = float('-inf')\n",
        "        if node.left:\n",
        "            max_eval = max(max_eval, minimax(node.left, depth - 1, False))\n",
        "        if node.right:\n",
        "            max_eval = max(max_eval, minimax(node.right, depth - 1, False))\n",
        "        return max_eval\n",
        "    else:\n",
        "        min_eval = float('inf')\n",
        "        if node.left:\n",
        "            min_eval = min(min_eval, minimax(node.left, depth - 1, True))\n",
        "        if node.right:\n",
        "            min_eval = min(min_eval, minimax(node.right, depth - 1, True))\n",
        "        return min_eval\n",
        "\n",
        "def main():\n",
        "    root = build_tree()\n",
        "    depth = 3\n",
        "    score = minimax(root, depth, True)\n",
        "    print(\"Optimal score:\", score)\n",
        "\n",
        "if __name__ == \"__main__\":\n",
        "    main()\n"
      ]
    }
  ]
}