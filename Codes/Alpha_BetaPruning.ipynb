{
  "nbformat": 4,
  "nbformat_minor": 0,
  "metadata": {
    "colab": {
      "provenance": []
    },
    "kernelspec": {
      "name": "python3",
      "display_name": "Python 3"
    },
    "language_info": {
      "name": "python"
    }
  },
  "cells": [
    {
      "cell_type": "code",
      "execution_count": null,
      "metadata": {
        "colab": {
          "base_uri": "https://localhost:8080/"
        },
        "id": "0JRAN0Ed7iZ9",
        "outputId": "86125a1b-1488-4809-d342-924bfb3a4a77"
      },
      "outputs": [
        {
          "output_type": "stream",
          "name": "stdout",
          "text": [
            "Optimal value: 2\n"
          ]
        }
      ],
      "source": [
        "import math\n",
        "tree = [3, [[17, [[6, []], [2, []]]], [5, [[1, []], [10, []]]]]]\n",
        "\n",
        "def minimax(node, depth, alpha, beta, maximizing_player):\n",
        "    if depth == 0 or not node[1]:\n",
        "        return node[0]\n",
        "    if maximizing_player:\n",
        "        value = -math.inf\n",
        "        for child in node[1]:\n",
        "            value = max(value, minimax(child, depth - 1, alpha, beta, False))\n",
        "            alpha = max(alpha, value)\n",
        "            if beta <= alpha:\n",
        "                break\n",
        "        return value\n",
        "    else:\n",
        "        value = math.inf\n",
        "        for child in node[1]:\n",
        "            value = min(value, minimax(child, depth - 1, alpha, beta, True))\n",
        "            beta = min(beta, value)\n",
        "            if beta <= alpha:\n",
        "                break\n",
        "        return value\n",
        "result = minimax(tree, 3, -math.inf, math.inf, True)\n",
        "print(\"Optimal value:\", result)\n"
      ]
    }
  ]
}